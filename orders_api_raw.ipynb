{
 "cells": [
  {
   "cell_type": "code",
   "execution_count": 17,
   "id": "905480ea-376e-4f49-9156-6ef36e450133",
   "metadata": {},
   "outputs": [],
   "source": [
    "# Imports\n",
    "# Imports for Alapaca SDK\n",
    "import os\n",
    "import requests\n",
    "import json\n",
    "from dotenv import load_dotenv\n",
    "# import alpaca_trade_api as tradeapi"
   ]
  },
  {
   "cell_type": "code",
   "execution_count": 18,
   "id": "09363f13-9076-4d32-a59d-1000c26097b1",
   "metadata": {},
   "outputs": [],
   "source": [
    "BASE_URL = 'https://paper-api.alpaca.markets'\n",
    "ACCOUNT_URL = '{}/v2/account'.format(BASE_URL)\n"
   ]
  },
  {
   "cell_type": "code",
   "execution_count": 19,
   "id": "ebf5d9b0-4241-4c95-9506-0725cda65149",
   "metadata": {},
   "outputs": [
    {
     "data": {
      "text/plain": [
       "True"
      ]
     },
     "execution_count": 19,
     "metadata": {},
     "output_type": "execute_result"
    }
   ],
   "source": [
    "load_dotenv()"
   ]
  },
  {
   "cell_type": "code",
   "execution_count": 20,
   "id": "57de7574-b3bd-4788-9b71-ad77b0ca947f",
   "metadata": {},
   "outputs": [],
   "source": [
    "APCA_API_KEY_ID = os.getenv('APCA_API_KEY_ID')\n",
    "APCA_API_SECRET_KEY = os.getenv('APCA_API_SECRET_KEY')"
   ]
  },
  {
   "cell_type": "code",
   "execution_count": 21,
   "id": "ff7f7319-6133-4cd2-a61f-2ea8955e301a",
   "metadata": {},
   "outputs": [
    {
     "data": {
      "text/plain": [
       "str"
      ]
     },
     "metadata": {},
     "output_type": "display_data"
    },
    {
     "data": {
      "text/plain": [
       "str"
      ]
     },
     "metadata": {},
     "output_type": "display_data"
    }
   ],
   "source": [
    "display(type(APCA_API_KEY_ID))\n",
    "display(type(APCA_API_SECRET_KEY))"
   ]
  },
  {
   "cell_type": "code",
   "execution_count": 22,
   "id": "25d9a30b-a997-4ca0-b5ee-c5017a27d89a",
   "metadata": {},
   "outputs": [
    {
     "name": "stdout",
     "output_type": "stream",
     "text": [
      "b'{\"message\": \"forbidden.\"}\\n'\n"
     ]
    }
   ],
   "source": [
    "# Initial test request\n",
    "r = requests.get(ACCOUNT_URL, headers={'APCA_API_KEY_ID':APCA_API_KEY_ID,'APCA_API_SECRET_KEY':APCA_API_SECRET_KEY})\n",
    "print(r.content)"
   ]
  },
  {
   "cell_type": "code",
   "execution_count": null,
   "id": "bbf2a877-160a-4f65-8320-572bbd1e597f",
   "metadata": {},
   "outputs": [],
   "source": []
  }
 ],
 "metadata": {
  "kernelspec": {
   "display_name": "Python 3",
   "language": "python",
   "name": "python3"
  },
  "language_info": {
   "codemirror_mode": {
    "name": "ipython",
    "version": 3
   },
   "file_extension": ".py",
   "mimetype": "text/x-python",
   "name": "python",
   "nbconvert_exporter": "python",
   "pygments_lexer": "ipython3",
   "version": "3.7.7"
  }
 },
 "nbformat": 4,
 "nbformat_minor": 5
}
