{
 "cells": [
  {
   "cell_type": "code",
   "execution_count": 2,
   "id": "79728a40-cd82-4959-9406-0e681e9290e4",
   "metadata": {
    "tags": []
   },
   "outputs": [],
   "source": [
    "import alpaca_trade_api as tradeapi\n",
    "import os\n",
    "from dotenv import load_dotenv"
   ]
  },
  {
   "cell_type": "code",
   "execution_count": 4,
   "id": "daf61e5f-9677-4927-bad8-59ed3e2e5ce9",
   "metadata": {},
   "outputs": [
    {
     "data": {
      "text/plain": [
       "True"
      ]
     },
     "execution_count": 4,
     "metadata": {},
     "output_type": "execute_result"
    }
   ],
   "source": [
    "load_dotenv()"
   ]
  },
  {
   "cell_type": "code",
   "execution_count": 5,
   "id": "b305b4ba-d58e-4967-b176-2b5ea363655f",
   "metadata": {},
   "outputs": [],
   "source": [
    "# API Keys linked from env file\n",
    "APCA_API_KEY_ID = os.getenv('APCA_API_KEY_ID')\n",
    "APCA_API_SECRET_KEY = os.getenv('APCA_API_SECRET_KEY')"
   ]
  },
  {
   "cell_type": "code",
   "execution_count": 13,
   "id": "ee3f53fc-c9fc-4334-9c39-c41b9a5d3d36",
   "metadata": {},
   "outputs": [],
   "source": [
    "# Set up REST API object.\n",
    "alpaca = tradeapi.REST(\n",
    "    APCA_API_KEY_ID,\n",
    "    APCA_API_SECRET_KEY,\n",
    "    'https://paper-api.alpaca.markets',\n",
    "    api_version=\"v2\")"
   ]
  },
  {
   "cell_type": "code",
   "execution_count": 14,
   "id": "c9c5a306-1742-4364-9716-b168779e8cac",
   "metadata": {},
   "outputs": [
    {
     "data": {
      "text/plain": [
       "'ACTIVE'"
      ]
     },
     "execution_count": 14,
     "metadata": {},
     "output_type": "execute_result"
    }
   ],
   "source": [
    "# Account test\n",
    "account = alpaca.get_account()\n",
    "account.status"
   ]
  },
  {
   "cell_type": "code",
   "execution_count": 10,
   "id": "7917661b-a27e-499d-b3eb-7c121afdd38c",
   "metadata": {},
   "outputs": [],
   "source": [
    "# Test order for AMD\n",
    "amd_order = alpaca.submit_order('AMD',qty=10,side='buy',type='market')"
   ]
  },
  {
   "cell_type": "code",
   "execution_count": 11,
   "id": "aafa40ce-12ef-49d4-85cb-dc715afbc2cd",
   "metadata": {},
   "outputs": [
    {
     "data": {
      "text/plain": [
       "Order({   'asset_class': 'us_equity',\n",
       "    'asset_id': '03fb07bb-5db1-4077-8dea-5d711b272625',\n",
       "    'canceled_at': None,\n",
       "    'client_order_id': 'bec02521-f7ee-4c53-a561-a9c1eea2e205',\n",
       "    'created_at': '2022-05-07T17:04:17.434577139Z',\n",
       "    'expired_at': None,\n",
       "    'extended_hours': False,\n",
       "    'failed_at': None,\n",
       "    'filled_at': None,\n",
       "    'filled_avg_price': None,\n",
       "    'filled_qty': '0',\n",
       "    'hwm': None,\n",
       "    'id': '85ed2394-bd28-446c-8db3-815d6b18d342',\n",
       "    'legs': None,\n",
       "    'limit_price': None,\n",
       "    'notional': None,\n",
       "    'order_class': '',\n",
       "    'order_type': 'market',\n",
       "    'qty': '10',\n",
       "    'replaced_at': None,\n",
       "    'replaced_by': None,\n",
       "    'replaces': None,\n",
       "    'side': 'buy',\n",
       "    'source': None,\n",
       "    'status': 'accepted',\n",
       "    'stop_price': None,\n",
       "    'submitted_at': '2022-05-07T17:04:17.432323969Z',\n",
       "    'symbol': 'AMD',\n",
       "    'time_in_force': 'day',\n",
       "    'trail_percent': None,\n",
       "    'trail_price': None,\n",
       "    'type': 'market',\n",
       "    'updated_at': '2022-05-07T17:04:17.434577139Z'})"
      ]
     },
     "execution_count": 11,
     "metadata": {},
     "output_type": "execute_result"
    }
   ],
   "source": [
    "# Processing the order\n",
    "amd_order"
   ]
  },
  {
   "cell_type": "code",
   "execution_count": 15,
   "id": "7188f29f-0a40-4092-8ba6-5d69408a92a3",
   "metadata": {},
   "outputs": [
    {
     "data": {
      "text/plain": [
       "[Order({   'asset_class': 'us_equity',\n",
       "     'asset_id': '03fb07bb-5db1-4077-8dea-5d711b272625',\n",
       "     'canceled_at': None,\n",
       "     'client_order_id': '3c361b17-b012-41d8-af2c-4d67f3102036',\n",
       "     'created_at': '2022-05-07T17:05:40.03965Z',\n",
       "     'expired_at': None,\n",
       "     'extended_hours': False,\n",
       "     'failed_at': None,\n",
       "     'filled_at': None,\n",
       "     'filled_avg_price': None,\n",
       "     'filled_qty': '0',\n",
       "     'hwm': None,\n",
       "     'id': '5ab63214-7e69-4a6c-98eb-871cb5da7f8e',\n",
       "     'legs': None,\n",
       "     'limit_price': None,\n",
       "     'notional': None,\n",
       "     'order_class': '',\n",
       "     'order_type': 'market',\n",
       "     'qty': '100',\n",
       "     'replaced_at': None,\n",
       "     'replaced_by': None,\n",
       "     'replaces': None,\n",
       "     'side': 'buy',\n",
       "     'source': 'access_key',\n",
       "     'status': 'accepted',\n",
       "     'stop_price': None,\n",
       "     'submitted_at': '2022-05-07T17:05:40.035661Z',\n",
       "     'symbol': 'AMD',\n",
       "     'time_in_force': 'day',\n",
       "     'trail_percent': None,\n",
       "     'trail_price': None,\n",
       "     'type': 'market',\n",
       "     'updated_at': '2022-05-07T17:05:40.03965Z'}),\n",
       " Order({   'asset_class': 'us_equity',\n",
       "     'asset_id': '03fb07bb-5db1-4077-8dea-5d711b272625',\n",
       "     'canceled_at': None,\n",
       "     'client_order_id': 'bec02521-f7ee-4c53-a561-a9c1eea2e205',\n",
       "     'created_at': '2022-05-07T17:04:17.434577Z',\n",
       "     'expired_at': None,\n",
       "     'extended_hours': False,\n",
       "     'failed_at': None,\n",
       "     'filled_at': None,\n",
       "     'filled_avg_price': None,\n",
       "     'filled_qty': '0',\n",
       "     'hwm': None,\n",
       "     'id': '85ed2394-bd28-446c-8db3-815d6b18d342',\n",
       "     'legs': None,\n",
       "     'limit_price': None,\n",
       "     'notional': None,\n",
       "     'order_class': '',\n",
       "     'order_type': 'market',\n",
       "     'qty': '10',\n",
       "     'replaced_at': None,\n",
       "     'replaced_by': None,\n",
       "     'replaces': None,\n",
       "     'side': 'buy',\n",
       "     'source': 'access_key',\n",
       "     'status': 'accepted',\n",
       "     'stop_price': None,\n",
       "     'submitted_at': '2022-05-07T17:04:17.432324Z',\n",
       "     'symbol': 'AMD',\n",
       "     'time_in_force': 'day',\n",
       "     'trail_percent': None,\n",
       "     'trail_price': None,\n",
       "     'type': 'market',\n",
       "     'updated_at': '2022-05-07T17:04:17.434577Z'})]"
      ]
     },
     "execution_count": 15,
     "metadata": {},
     "output_type": "execute_result"
    }
   ],
   "source": [
    "# Listing all orders\n",
    "alpaca.list_orders()"
   ]
  },
  {
   "cell_type": "code",
   "execution_count": 16,
   "id": "198718ef-f212-4396-8c11-d3015be5f20b",
   "metadata": {},
   "outputs": [
    {
     "ename": "APIError",
     "evalue": "cannot open a short sell while a long buy order is open",
     "output_type": "error",
     "traceback": [
      "\u001b[0;31m---------------------------------------------------------------------------\u001b[0m",
      "\u001b[0;31mHTTPError\u001b[0m                                 Traceback (most recent call last)",
      "\u001b[0;32m~/opt/anaconda3/envs/pandasdev/lib/python3.7/site-packages/alpaca_trade_api/rest.py\u001b[0m in \u001b[0;36m_one_request\u001b[0;34m(self, method, url, opts, retry)\u001b[0m\n\u001b[1;32m    159\u001b[0m         \u001b[0;32mtry\u001b[0m\u001b[0;34m:\u001b[0m\u001b[0;34m\u001b[0m\u001b[0;34m\u001b[0m\u001b[0m\n\u001b[0;32m--> 160\u001b[0;31m             \u001b[0mresp\u001b[0m\u001b[0;34m.\u001b[0m\u001b[0mraise_for_status\u001b[0m\u001b[0;34m(\u001b[0m\u001b[0;34m)\u001b[0m\u001b[0;34m\u001b[0m\u001b[0;34m\u001b[0m\u001b[0m\n\u001b[0m\u001b[1;32m    161\u001b[0m         \u001b[0;32mexcept\u001b[0m \u001b[0mHTTPError\u001b[0m \u001b[0;32mas\u001b[0m \u001b[0mhttp_error\u001b[0m\u001b[0;34m:\u001b[0m\u001b[0;34m\u001b[0m\u001b[0;34m\u001b[0m\u001b[0m\n",
      "\u001b[0;32m~/opt/anaconda3/envs/pandasdev/lib/python3.7/site-packages/requests/models.py\u001b[0m in \u001b[0;36mraise_for_status\u001b[0;34m(self)\u001b[0m\n\u001b[1;32m    942\u001b[0m         \u001b[0;32mif\u001b[0m \u001b[0mhttp_error_msg\u001b[0m\u001b[0;34m:\u001b[0m\u001b[0;34m\u001b[0m\u001b[0;34m\u001b[0m\u001b[0m\n\u001b[0;32m--> 943\u001b[0;31m             \u001b[0;32mraise\u001b[0m \u001b[0mHTTPError\u001b[0m\u001b[0;34m(\u001b[0m\u001b[0mhttp_error_msg\u001b[0m\u001b[0;34m,\u001b[0m \u001b[0mresponse\u001b[0m\u001b[0;34m=\u001b[0m\u001b[0mself\u001b[0m\u001b[0;34m)\u001b[0m\u001b[0;34m\u001b[0m\u001b[0;34m\u001b[0m\u001b[0m\n\u001b[0m\u001b[1;32m    944\u001b[0m \u001b[0;34m\u001b[0m\u001b[0m\n",
      "\u001b[0;31mHTTPError\u001b[0m: 403 Client Error: Forbidden for url: https://paper-api.alpaca.markets/v2/orders",
      "\nDuring handling of the above exception, another exception occurred:\n",
      "\u001b[0;31mAPIError\u001b[0m                                  Traceback (most recent call last)",
      "\u001b[0;32m<ipython-input-16-709956b89285>\u001b[0m in \u001b[0;36m<module>\u001b[0;34m\u001b[0m\n\u001b[1;32m      1\u001b[0m \u001b[0;31m# Test SELL order for AMD\u001b[0m\u001b[0;34m\u001b[0m\u001b[0;34m\u001b[0m\u001b[0;34m\u001b[0m\u001b[0m\n\u001b[0;32m----> 2\u001b[0;31m \u001b[0mamd_sell\u001b[0m \u001b[0;34m=\u001b[0m \u001b[0malpaca\u001b[0m\u001b[0;34m.\u001b[0m\u001b[0msubmit_order\u001b[0m\u001b[0;34m(\u001b[0m\u001b[0;34m'AMD'\u001b[0m\u001b[0;34m,\u001b[0m\u001b[0mqty\u001b[0m\u001b[0;34m=\u001b[0m\u001b[0;36m10\u001b[0m\u001b[0;34m,\u001b[0m\u001b[0mside\u001b[0m\u001b[0;34m=\u001b[0m\u001b[0;34m'sell'\u001b[0m\u001b[0;34m,\u001b[0m\u001b[0mtype\u001b[0m\u001b[0;34m=\u001b[0m\u001b[0;34m'market'\u001b[0m\u001b[0;34m)\u001b[0m\u001b[0;34m\u001b[0m\u001b[0;34m\u001b[0m\u001b[0m\n\u001b[0m",
      "\u001b[0;32m~/opt/anaconda3/envs/pandasdev/lib/python3.7/site-packages/alpaca_trade_api/rest.py\u001b[0m in \u001b[0;36msubmit_order\u001b[0;34m(self, symbol, qty, side, type, time_in_force, limit_price, stop_price, client_order_id, extended_hours, order_class, take_profit, stop_loss, trail_price, trail_percent, notional)\u001b[0m\n\u001b[1;32m    345\u001b[0m         \u001b[0;32mif\u001b[0m \u001b[0mtrail_percent\u001b[0m \u001b[0;32mis\u001b[0m \u001b[0;32mnot\u001b[0m \u001b[0;32mNone\u001b[0m\u001b[0;34m:\u001b[0m\u001b[0;34m\u001b[0m\u001b[0;34m\u001b[0m\u001b[0m\n\u001b[1;32m    346\u001b[0m             \u001b[0mparams\u001b[0m\u001b[0;34m[\u001b[0m\u001b[0;34m'trail_percent'\u001b[0m\u001b[0;34m]\u001b[0m \u001b[0;34m=\u001b[0m \u001b[0mtrail_percent\u001b[0m\u001b[0;34m\u001b[0m\u001b[0;34m\u001b[0m\u001b[0m\n\u001b[0;32m--> 347\u001b[0;31m         \u001b[0mresp\u001b[0m \u001b[0;34m=\u001b[0m \u001b[0mself\u001b[0m\u001b[0;34m.\u001b[0m\u001b[0mpost\u001b[0m\u001b[0;34m(\u001b[0m\u001b[0;34m'/orders'\u001b[0m\u001b[0;34m,\u001b[0m \u001b[0mparams\u001b[0m\u001b[0;34m)\u001b[0m\u001b[0;34m\u001b[0m\u001b[0;34m\u001b[0m\u001b[0m\n\u001b[0m\u001b[1;32m    348\u001b[0m         \u001b[0;32mreturn\u001b[0m \u001b[0mself\u001b[0m\u001b[0;34m.\u001b[0m\u001b[0mresponse_wrapper\u001b[0m\u001b[0;34m(\u001b[0m\u001b[0mresp\u001b[0m\u001b[0;34m,\u001b[0m \u001b[0mOrder\u001b[0m\u001b[0;34m)\u001b[0m\u001b[0;34m\u001b[0m\u001b[0;34m\u001b[0m\u001b[0m\n\u001b[1;32m    349\u001b[0m \u001b[0;34m\u001b[0m\u001b[0m\n",
      "\u001b[0;32m~/opt/anaconda3/envs/pandasdev/lib/python3.7/site-packages/alpaca_trade_api/rest.py\u001b[0m in \u001b[0;36mpost\u001b[0;34m(self, path, data)\u001b[0m\n\u001b[1;32m    177\u001b[0m \u001b[0;34m\u001b[0m\u001b[0m\n\u001b[1;32m    178\u001b[0m     \u001b[0;32mdef\u001b[0m \u001b[0mpost\u001b[0m\u001b[0;34m(\u001b[0m\u001b[0mself\u001b[0m\u001b[0;34m,\u001b[0m \u001b[0mpath\u001b[0m\u001b[0;34m,\u001b[0m \u001b[0mdata\u001b[0m\u001b[0;34m=\u001b[0m\u001b[0;32mNone\u001b[0m\u001b[0;34m)\u001b[0m\u001b[0;34m:\u001b[0m\u001b[0;34m\u001b[0m\u001b[0;34m\u001b[0m\u001b[0m\n\u001b[0;32m--> 179\u001b[0;31m         \u001b[0;32mreturn\u001b[0m \u001b[0mself\u001b[0m\u001b[0;34m.\u001b[0m\u001b[0m_request\u001b[0m\u001b[0;34m(\u001b[0m\u001b[0;34m'POST'\u001b[0m\u001b[0;34m,\u001b[0m \u001b[0mpath\u001b[0m\u001b[0;34m,\u001b[0m \u001b[0mdata\u001b[0m\u001b[0;34m)\u001b[0m\u001b[0;34m\u001b[0m\u001b[0;34m\u001b[0m\u001b[0m\n\u001b[0m\u001b[1;32m    180\u001b[0m \u001b[0;34m\u001b[0m\u001b[0m\n\u001b[1;32m    181\u001b[0m     \u001b[0;32mdef\u001b[0m \u001b[0mput\u001b[0m\u001b[0;34m(\u001b[0m\u001b[0mself\u001b[0m\u001b[0;34m,\u001b[0m \u001b[0mpath\u001b[0m\u001b[0;34m,\u001b[0m \u001b[0mdata\u001b[0m\u001b[0;34m=\u001b[0m\u001b[0;32mNone\u001b[0m\u001b[0;34m)\u001b[0m\u001b[0;34m:\u001b[0m\u001b[0;34m\u001b[0m\u001b[0;34m\u001b[0m\u001b[0m\n",
      "\u001b[0;32m~/opt/anaconda3/envs/pandasdev/lib/python3.7/site-packages/alpaca_trade_api/rest.py\u001b[0m in \u001b[0;36m_request\u001b[0;34m(self, method, path, data, base_url, api_version)\u001b[0m\n\u001b[1;32m    137\u001b[0m         \u001b[0;32mwhile\u001b[0m \u001b[0mretry\u001b[0m \u001b[0;34m>=\u001b[0m \u001b[0;36m0\u001b[0m\u001b[0;34m:\u001b[0m\u001b[0;34m\u001b[0m\u001b[0;34m\u001b[0m\u001b[0m\n\u001b[1;32m    138\u001b[0m             \u001b[0;32mtry\u001b[0m\u001b[0;34m:\u001b[0m\u001b[0;34m\u001b[0m\u001b[0;34m\u001b[0m\u001b[0m\n\u001b[0;32m--> 139\u001b[0;31m                 \u001b[0;32mreturn\u001b[0m \u001b[0mself\u001b[0m\u001b[0;34m.\u001b[0m\u001b[0m_one_request\u001b[0m\u001b[0;34m(\u001b[0m\u001b[0mmethod\u001b[0m\u001b[0;34m,\u001b[0m \u001b[0murl\u001b[0m\u001b[0;34m,\u001b[0m \u001b[0mopts\u001b[0m\u001b[0;34m,\u001b[0m \u001b[0mretry\u001b[0m\u001b[0;34m)\u001b[0m\u001b[0;34m\u001b[0m\u001b[0;34m\u001b[0m\u001b[0m\n\u001b[0m\u001b[1;32m    140\u001b[0m             \u001b[0;32mexcept\u001b[0m \u001b[0mRetryException\u001b[0m\u001b[0;34m:\u001b[0m\u001b[0;34m\u001b[0m\u001b[0;34m\u001b[0m\u001b[0m\n\u001b[1;32m    141\u001b[0m                 \u001b[0mretry_wait\u001b[0m \u001b[0;34m=\u001b[0m \u001b[0mself\u001b[0m\u001b[0;34m.\u001b[0m\u001b[0m_retry_wait\u001b[0m\u001b[0;34m\u001b[0m\u001b[0;34m\u001b[0m\u001b[0m\n",
      "\u001b[0;32m~/opt/anaconda3/envs/pandasdev/lib/python3.7/site-packages/alpaca_trade_api/rest.py\u001b[0m in \u001b[0;36m_one_request\u001b[0;34m(self, method, url, opts, retry)\u001b[0m\n\u001b[1;32m    166\u001b[0m                 \u001b[0merror\u001b[0m \u001b[0;34m=\u001b[0m \u001b[0mresp\u001b[0m\u001b[0;34m.\u001b[0m\u001b[0mjson\u001b[0m\u001b[0;34m(\u001b[0m\u001b[0;34m)\u001b[0m\u001b[0;34m\u001b[0m\u001b[0;34m\u001b[0m\u001b[0m\n\u001b[1;32m    167\u001b[0m                 \u001b[0;32mif\u001b[0m \u001b[0;34m'code'\u001b[0m \u001b[0;32min\u001b[0m \u001b[0merror\u001b[0m\u001b[0;34m:\u001b[0m\u001b[0;34m\u001b[0m\u001b[0;34m\u001b[0m\u001b[0m\n\u001b[0;32m--> 168\u001b[0;31m                     \u001b[0;32mraise\u001b[0m \u001b[0mAPIError\u001b[0m\u001b[0;34m(\u001b[0m\u001b[0merror\u001b[0m\u001b[0;34m,\u001b[0m \u001b[0mhttp_error\u001b[0m\u001b[0;34m)\u001b[0m\u001b[0;34m\u001b[0m\u001b[0;34m\u001b[0m\u001b[0m\n\u001b[0m\u001b[1;32m    169\u001b[0m             \u001b[0;32melse\u001b[0m\u001b[0;34m:\u001b[0m\u001b[0;34m\u001b[0m\u001b[0;34m\u001b[0m\u001b[0m\n\u001b[1;32m    170\u001b[0m                 \u001b[0;32mraise\u001b[0m\u001b[0;34m\u001b[0m\u001b[0;34m\u001b[0m\u001b[0m\n",
      "\u001b[0;31mAPIError\u001b[0m: cannot open a short sell while a long buy order is open"
     ]
    }
   ],
   "source": [
    "# Test SELL order for AMD\n",
    "amd_sell = alpaca.submit_order('AMD',qty=10,side='sell',type='market')"
   ]
  },
  {
   "cell_type": "code",
   "execution_count": null,
   "id": "bf119fb2-d5ef-406a-8889-20e9976dd451",
   "metadata": {},
   "outputs": [],
   "source": []
  }
 ],
 "metadata": {
  "kernelspec": {
   "display_name": "Python 3",
   "language": "python",
   "name": "python3"
  },
  "language_info": {
   "codemirror_mode": {
    "name": "ipython",
    "version": 3
   },
   "file_extension": ".py",
   "mimetype": "text/x-python",
   "name": "python",
   "nbconvert_exporter": "python",
   "pygments_lexer": "ipython3",
   "version": "3.7.7"
  }
 },
 "nbformat": 4,
 "nbformat_minor": 5
}
